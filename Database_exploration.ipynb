{
 "cells": [
  {
   "cell_type": "code",
   "execution_count": 21,
   "metadata": {
    "collapsed": false,
    "pycharm": {
     "name": "#%%\n"
    }
   },
   "outputs": [],
   "source": [
    "import sqlite3\n",
    "conn=sqlite3.connect('attendance.db')"
   ]
  },
  {
   "cell_type": "code",
   "execution_count": 22,
   "metadata": {},
   "outputs": [
    {
     "name": "stdout",
     "output_type": "stream",
     "text": [
      "The sql extension is already loaded. To reload it, use:\n",
      "  %reload_ext sql\n"
     ]
    }
   ],
   "source": [
    "%load_ext sql"
   ]
  },
  {
   "cell_type": "code",
   "execution_count": 23,
   "metadata": {},
   "outputs": [],
   "source": [
    "%sql sqlite:///attendance.db"
   ]
  },
  {
   "cell_type": "code",
   "execution_count": 24,
   "metadata": {},
   "outputs": [
    {
     "name": "stdout",
     "output_type": "stream",
     "text": [
      " * sqlite:///attendance.db\n",
      "Done.\n"
     ]
    },
    {
     "data": {
      "text/html": [
       "<table>\n",
       "    <tr>\n",
       "        <th>type</th>\n",
       "        <th>name</th>\n",
       "        <th>tbl_name</th>\n",
       "        <th>rootpage</th>\n",
       "        <th>sql</th>\n",
       "    </tr>\n",
       "    <tr>\n",
       "        <td>table</td>\n",
       "        <td>Attendance</td>\n",
       "        <td>Attendance</td>\n",
       "        <td>2</td>\n",
       "        <td>CREATE TABLE Attendance(Id int PRIMARY KEY, day date, employee text)</td>\n",
       "    </tr>\n",
       "    <tr>\n",
       "        <td>table</td>\n",
       "        <td>AttendanceActions</td>\n",
       "        <td>AttendanceActions</td>\n",
       "        <td>4</td>\n",
       "        <td>CREATE TABLE AttendanceActions(Id int PRIMARY KEY, AttendanceId int, ActionTime datetime, Action text, FOREIGN KEY(AttendanceId) REFERENCES Attendance(Id))</td>\n",
       "    </tr>\n",
       "</table>"
      ],
      "text/plain": [
       "[('table', 'Attendance', 'Attendance', 2, 'CREATE TABLE Attendance(Id int PRIMARY KEY, day date, employee text)'),\n",
       " ('table', 'AttendanceActions', 'AttendanceActions', 4, 'CREATE TABLE AttendanceActions(Id int PRIMARY KEY, AttendanceId int, ActionTime datetime, Action text, FOREIGN KEY(AttendanceId) REFERENCES Attendance(Id))')]"
      ]
     },
     "execution_count": 24,
     "metadata": {},
     "output_type": "execute_result"
    }
   ],
   "source": [
    "%sql SELECT * FROM sqlite_master WHERE type='table'"
   ]
  },
  {
   "attachments": {},
   "cell_type": "markdown",
   "metadata": {},
   "source": [
    "explore Attendance table"
   ]
  },
  {
   "cell_type": "code",
   "execution_count": 25,
   "metadata": {},
   "outputs": [
    {
     "name": "stdout",
     "output_type": "stream",
     "text": [
      " * sqlite:///attendance.db\n",
      "Done.\n"
     ]
    },
    {
     "data": {
      "text/html": [
       "<table>\n",
       "    <tr>\n",
       "        <th>Id</th>\n",
       "        <th>day</th>\n",
       "        <th>employee</th>\n",
       "    </tr>\n",
       "    <tr>\n",
       "        <td>1</td>\n",
       "        <td>2020-04-01</td>\n",
       "        <td>EMP01</td>\n",
       "    </tr>\n",
       "    <tr>\n",
       "        <td>2</td>\n",
       "        <td>2020-04-01</td>\n",
       "        <td>EMP02</td>\n",
       "    </tr>\n",
       "    <tr>\n",
       "        <td>3</td>\n",
       "        <td>2020-04-02</td>\n",
       "        <td>EMP01</td>\n",
       "    </tr>\n",
       "    <tr>\n",
       "        <td>4</td>\n",
       "        <td>2020-04-03</td>\n",
       "        <td>EMP01</td>\n",
       "    </tr>\n",
       "    <tr>\n",
       "        <td>5</td>\n",
       "        <td>2020-04-02</td>\n",
       "        <td>EMP02</td>\n",
       "    </tr>\n",
       "    <tr>\n",
       "        <td>6</td>\n",
       "        <td>2020-04-03</td>\n",
       "        <td>EMP02</td>\n",
       "    </tr>\n",
       "</table>"
      ],
      "text/plain": [
       "[(1, '2020-04-01', 'EMP01'),\n",
       " (2, '2020-04-01', 'EMP02'),\n",
       " (3, '2020-04-02', 'EMP01'),\n",
       " (4, '2020-04-03', 'EMP01'),\n",
       " (5, '2020-04-02', 'EMP02'),\n",
       " (6, '2020-04-03', 'EMP02')]"
      ]
     },
     "execution_count": 25,
     "metadata": {},
     "output_type": "execute_result"
    }
   ],
   "source": [
    "%sql SELECT * FROM Attendance"
   ]
  },
  {
   "cell_type": "code",
   "execution_count": 26,
   "metadata": {},
   "outputs": [
    {
     "name": "stdout",
     "output_type": "stream",
     "text": [
      " * sqlite:///attendance.db\n",
      "Done.\n"
     ]
    },
    {
     "data": {
      "text/html": [
       "<table>\n",
       "    <tr>\n",
       "        <th>Id</th>\n",
       "        <th>AttendanceId</th>\n",
       "        <th>ActionTime</th>\n",
       "        <th>Action</th>\n",
       "    </tr>\n",
       "    <tr>\n",
       "        <td>1</td>\n",
       "        <td>1</td>\n",
       "        <td>2020-04-01 12:00 AM</td>\n",
       "        <td>CheckIn</td>\n",
       "    </tr>\n",
       "    <tr>\n",
       "        <td>2</td>\n",
       "        <td>1</td>\n",
       "        <td>2020-04-01 12:00 PM</td>\n",
       "        <td>CheckOut</td>\n",
       "    </tr>\n",
       "    <tr>\n",
       "        <td>3</td>\n",
       "        <td>2</td>\n",
       "        <td>2020-04-01 12:05 PM</td>\n",
       "        <td>CheckIn</td>\n",
       "    </tr>\n",
       "    <tr>\n",
       "        <td>4</td>\n",
       "        <td>2</td>\n",
       "        <td>2020-04-01 11:50 PM</td>\n",
       "        <td>CheckOut</td>\n",
       "    </tr>\n",
       "    <tr>\n",
       "        <td>5</td>\n",
       "        <td>3</td>\n",
       "        <td>2020-04-02 12:05 AM</td>\n",
       "        <td>CheckIn</td>\n",
       "    </tr>\n",
       "    <tr>\n",
       "        <td>6</td>\n",
       "        <td>3</td>\n",
       "        <td>2020-04-02 11:50 AM</td>\n",
       "        <td>CheckOut</td>\n",
       "    </tr>\n",
       "    <tr>\n",
       "        <td>7</td>\n",
       "        <td>3</td>\n",
       "        <td>2020-04-02 11:50 PM</td>\n",
       "        <td>CheckIn</td>\n",
       "    </tr>\n",
       "    <tr>\n",
       "        <td>8</td>\n",
       "        <td>4</td>\n",
       "        <td>2020-04-03 12:05 PM</td>\n",
       "        <td>CheckOut</td>\n",
       "    </tr>\n",
       "</table>"
      ],
      "text/plain": [
       "[(1, 1, '2020-04-01 12:00 AM', 'CheckIn'),\n",
       " (2, 1, '2020-04-01 12:00 PM', 'CheckOut'),\n",
       " (3, 2, '2020-04-01 12:05 PM', 'CheckIn'),\n",
       " (4, 2, '2020-04-01 11:50 PM', 'CheckOut'),\n",
       " (5, 3, '2020-04-02 12:05 AM', 'CheckIn'),\n",
       " (6, 3, '2020-04-02 11:50 AM', 'CheckOut'),\n",
       " (7, 3, '2020-04-02 11:50 PM', 'CheckIn'),\n",
       " (8, 4, '2020-04-03 12:05 PM', 'CheckOut')]"
      ]
     },
     "execution_count": 26,
     "metadata": {},
     "output_type": "execute_result"
    }
   ],
   "source": [
    "%sql SELECT * FROM AttendanceActions "
   ]
  },
  {
   "cell_type": "code",
   "execution_count": 35,
   "metadata": {},
   "outputs": [
    {
     "name": "stdout",
     "output_type": "stream",
     "text": [
      " * sqlite:///attendance.db\n",
      "Done.\n"
     ]
    },
    {
     "data": {
      "text/html": [
       "<table>\n",
       "    <tr>\n",
       "        <th>Id</th>\n",
       "        <th>AttendanceId</th>\n",
       "        <th>ActionTime</th>\n",
       "        <th>Action</th>\n",
       "    </tr>\n",
       "    <tr>\n",
       "        <td>1</td>\n",
       "        <td>1</td>\n",
       "        <td>2020-04-01 12:00 AM</td>\n",
       "        <td>CheckIn</td>\n",
       "    </tr>\n",
       "    <tr>\n",
       "        <td>2</td>\n",
       "        <td>1</td>\n",
       "        <td>2020-04-01 12:00 PM</td>\n",
       "        <td>CheckOut</td>\n",
       "    </tr>\n",
       "</table>"
      ],
      "text/plain": [
       "[(1, 1, '2020-04-01 12:00 AM', 'CheckIn'),\n",
       " (2, 1, '2020-04-01 12:00 PM', 'CheckOut')]"
      ]
     },
     "execution_count": 35,
     "metadata": {},
     "output_type": "execute_result"
    }
   ],
   "source": [
    "code='EMP01'\n",
    "date='2020-04-01'\n",
    "\n",
    "%sql SElECT * FROM AttendanceActions WHERE AttendanceId = (SELECT A.ID FROM Attendance AS A WHERE (A.employee = 'EMP01' and A.day='2020-04-01'))"
   ]
  }
 ],
 "metadata": {
  "kernelspec": {
   "display_name": "Python 3",
   "language": "python",
   "name": "python3"
  },
  "language_info": {
   "codemirror_mode": {
    "name": "ipython",
    "version": 3
   },
   "file_extension": ".py",
   "mimetype": "text/x-python",
   "name": "python",
   "nbconvert_exporter": "python",
   "pygments_lexer": "ipython3",
   "version": "3.9.0"
  },
  "vscode": {
   "interpreter": {
    "hash": "a2a32ab4a5f7cd90480dbabb09257fae3defe07d2d8fed2a66cce74ba4c49416"
   }
  }
 },
 "nbformat": 4,
 "nbformat_minor": 0
}
